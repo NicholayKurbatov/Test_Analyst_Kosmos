{
  "nbformat": 4,
  "nbformat_minor": 0,
  "metadata": {
    "colab": {
      "name": "Test_Analyst_Kosmos_Kurbatov.ipynb",
      "provenance": [],
      "collapsed_sections": [
        "HobvNmza1dwm",
        "IIhS-AhJttzg",
        "HLRO_JMWwF79"
      ],
      "mount_file_id": "1OYu8wMC1NufPnPVEdWAslkqEErCQzCRd",
      "authorship_tag": "ABX9TyMXlFmuFcf/zQYCQw9aYj4Q"
    },
    "kernelspec": {
      "name": "python3",
      "display_name": "Python 3"
    },
    "language_info": {
      "name": "python"
    }
  },
  "cells": [
    {
      "cell_type": "code",
      "metadata": {
        "id": "Zrv9DUtrp5OY"
      },
      "source": [
        "import pandas as pd\n",
        "import numpy as np\n",
        "import plotly.graph_objects as go\n",
        "import matplotlib.pyplot as plt\n",
        "import seaborn as sns\n",
        "import ast\n",
        "import json"
      ],
      "execution_count": 1,
      "outputs": []
    },
    {
      "cell_type": "markdown",
      "metadata": {
        "id": "V3Cu4KIbrzgY"
      },
      "source": [
        "#Описание данных\n",
        "Структура данных:\n",
        "* used_id -- id игрока\n",
        "* media_source -- источник установки. Organic - пришедший к нам без рекламы (через стор); ad-traffic - пришёл к нам по рекламе.\n",
        "* client_time -- время события\n",
        "* event_name -- имя события\n",
        "* event_data -- доп. данные описывающие событие. Для некоторых ивентов могут отсутствовать. Для каждого event_name структура event_data стандартизированна\n",
        "* session_index -- порядковый номер сессии, в которую это событие произошло\n",
        "* game_status -- статус прогресса пользователя на момент любого события: \n",
        "    1. Coins - кол-во монет;\n",
        "    2. freeRounds/freeUndo/freeWildCard/freeAddCards - кол-во бесплатных бустеров на руках в текущий;\n",
        "    3. level - последний открытый уровень (уникальный идентификатор уровня);\n",
        "    4. bet - величина ставки. Остальные поля неактуальны."
      ]
    },
    {
      "cell_type": "code",
      "metadata": {
        "id": "4-vBfRvTrGgQ"
      },
      "source": [
        "df = pd.read_csv('/content/drive/MyDrive/Colab Notebooks/Kosmos_Analyst/TZ_GP.csv')\n",
        "df['client_time'] =  pd.to_datetime(df['client_time'], format='%Y-%m-%d %H:%M:%S')"
      ],
      "execution_count": 2,
      "outputs": []
    },
    {
      "cell_type": "code",
      "metadata": {
        "colab": {
          "base_uri": "https://localhost:8080/",
          "height": 306
        },
        "id": "8w2jiIBRrUJM",
        "outputId": "0165d612-16a6-44d4-bbaf-c4bf09d8727a"
      },
      "source": [
        "print(df.shape)\n",
        "df.head()"
      ],
      "execution_count": 3,
      "outputs": [
        {
          "output_type": "stream",
          "name": "stdout",
          "text": [
            "(396099, 7)\n"
          ]
        },
        {
          "output_type": "execute_result",
          "data": {
            "text/html": [
              "<div>\n",
              "<style scoped>\n",
              "    .dataframe tbody tr th:only-of-type {\n",
              "        vertical-align: middle;\n",
              "    }\n",
              "\n",
              "    .dataframe tbody tr th {\n",
              "        vertical-align: top;\n",
              "    }\n",
              "\n",
              "    .dataframe thead th {\n",
              "        text-align: right;\n",
              "    }\n",
              "</style>\n",
              "<table border=\"1\" class=\"dataframe\">\n",
              "  <thead>\n",
              "    <tr style=\"text-align: right;\">\n",
              "      <th></th>\n",
              "      <th>user_id</th>\n",
              "      <th>media_source</th>\n",
              "      <th>client_time</th>\n",
              "      <th>session_index</th>\n",
              "      <th>game_status</th>\n",
              "      <th>event_name</th>\n",
              "      <th>event_data</th>\n",
              "    </tr>\n",
              "  </thead>\n",
              "  <tbody>\n",
              "    <tr>\n",
              "      <th>0</th>\n",
              "      <td>60c588d7b4d1b24b40531f29</td>\n",
              "      <td>organic</td>\n",
              "      <td>2021-06-05 07:23:06</td>\n",
              "      <td>1</td>\n",
              "      <td>{\"coins\":0,\"freeRounds\":0,\"freeUndo\":0,\"freeWi...</td>\n",
              "      <td>appInstall</td>\n",
              "      <td>{\"device\":\"Xiaomi POCO M2 Pro\",\"graphicMemory\"...</td>\n",
              "    </tr>\n",
              "    <tr>\n",
              "      <th>1</th>\n",
              "      <td>60d34c7ab4d1b24b405324ac</td>\n",
              "      <td>organic</td>\n",
              "      <td>2021-06-05 16:33:26</td>\n",
              "      <td>1</td>\n",
              "      <td>{\"coins\":0,\"freeRounds\":0,\"freeUndo\":0,\"freeWi...</td>\n",
              "      <td>appInstall</td>\n",
              "      <td>{\"device\":\"samsung SM-J200G\",\"graphicMemory\":2...</td>\n",
              "    </tr>\n",
              "    <tr>\n",
              "      <th>2</th>\n",
              "      <td>60babef87c80da6a9442cb86</td>\n",
              "      <td>ad-traffic</td>\n",
              "      <td>2021-06-05 00:02:07</td>\n",
              "      <td>1</td>\n",
              "      <td>{\"coins\":0,\"freeRounds\":0,\"freeUndo\":0,\"freeWi...</td>\n",
              "      <td>appInstall</td>\n",
              "      <td>{\"device\":\"samsung SM-G781B\",\"graphicMemory\":2...</td>\n",
              "    </tr>\n",
              "    <tr>\n",
              "      <th>3</th>\n",
              "      <td>60bac0e912667e6a8d107731</td>\n",
              "      <td>ad-traffic</td>\n",
              "      <td>2021-06-05 00:04:29</td>\n",
              "      <td>1</td>\n",
              "      <td>{\"coins\":0,\"freeRounds\":0,\"freeUndo\":0,\"freeWi...</td>\n",
              "      <td>appInstall</td>\n",
              "      <td>{\"device\":\"samsung SM-T290\",\"graphicMemory\":51...</td>\n",
              "    </tr>\n",
              "    <tr>\n",
              "      <th>4</th>\n",
              "      <td>60babfb17c80da6a9442cb87</td>\n",
              "      <td>organic</td>\n",
              "      <td>2021-06-05 00:05:16</td>\n",
              "      <td>1</td>\n",
              "      <td>{\"coins\":0,\"freeRounds\":0,\"freeUndo\":0,\"freeWi...</td>\n",
              "      <td>appInstall</td>\n",
              "      <td>{\"device\":\"samsung SM-N960F\",\"graphicMemory\":2...</td>\n",
              "    </tr>\n",
              "  </tbody>\n",
              "</table>\n",
              "</div>"
            ],
            "text/plain": [
              "                    user_id  ...                                         event_data\n",
              "0  60c588d7b4d1b24b40531f29  ...  {\"device\":\"Xiaomi POCO M2 Pro\",\"graphicMemory\"...\n",
              "1  60d34c7ab4d1b24b405324ac  ...  {\"device\":\"samsung SM-J200G\",\"graphicMemory\":2...\n",
              "2  60babef87c80da6a9442cb86  ...  {\"device\":\"samsung SM-G781B\",\"graphicMemory\":2...\n",
              "3  60bac0e912667e6a8d107731  ...  {\"device\":\"samsung SM-T290\",\"graphicMemory\":51...\n",
              "4  60babfb17c80da6a9442cb87  ...  {\"device\":\"samsung SM-N960F\",\"graphicMemory\":2...\n",
              "\n",
              "[5 rows x 7 columns]"
            ]
          },
          "metadata": {},
          "execution_count": 3
        }
      ]
    },
    {
      "cell_type": "code",
      "metadata": {
        "id": "eScJcKwzbY-p"
      },
      "source": [
        "a = df[df['event_name'] == 'gladeComplete']['event_data'].copy()\n",
        "a = a.reset_index(drop=True)\n",
        "s = []\n",
        "for i in a:\n",
        "    s+=[ast.literal_eval(i)['levels']]\n",
        "unique, counts = np.unique(s, return_counts=True)"
      ],
      "execution_count": 4,
      "outputs": []
    },
    {
      "cell_type": "markdown",
      "metadata": {
        "id": "HobvNmza1dwm"
      },
      "source": [
        "#Using functions"
      ]
    },
    {
      "cell_type": "code",
      "metadata": {
        "id": "ZSApFh7j1hNu"
      },
      "source": [
        "# funnel visualization: https://medium.com/multiplyai/user-conversion-funnel-9d957ce3e80c\n",
        "def create_funnel_df(df, steps, from_date=None, to_date=None, step_interval=0):\n",
        "    \"\"\"\n",
        "    Function used to create a dataframe that can be passed to functions for generating funnel plots.\n",
        "    \"\"\"\n",
        "    # filter df for only events in the steps list\n",
        "    df = df[['user_id', 'event_name', 'client_time']]\n",
        "    df = df[df['event_name'].isin(steps)]\n",
        "\n",
        "    values = []\n",
        "    # for the rest steps, create a df and filter only for that step\n",
        "    for i, step in enumerate(steps):\n",
        "      if i == 0:\n",
        "          dfs = {}\n",
        "          dfs[step] = df[df['event_name'] == step] \\\n",
        "              .sort_values(['user_id', 'client_time'], ascending=True) \\\n",
        "              .drop_duplicates(subset=['user_id', 'event_name'], keep='first')\n",
        "\n",
        "          # filter df of 1st step according to dates\n",
        "          if from_date:\n",
        "              dfs[step] = dfs[step][(dfs[step]['time'] >= from_date)]\n",
        "\n",
        "          if to_date:\n",
        "              dfs[step] = dfs[step][(dfs[step]['time'] <= to_date)]\n",
        "\n",
        "      else:\n",
        "          dfs[step] = df[df['event_name'] == step]\n",
        "          # outer join with previous step\n",
        "          merged = pd.merge(dfs[steps[i - 1]], dfs[step], on='user_id', how='outer')\n",
        "\n",
        "          # keep only rows for which the distinct_ids appear in the previous step\n",
        "          valid_ids = dfs[steps[i - 1]]['user_id'].unique()\n",
        "          merged = merged[merged['user_id'].isin(valid_ids)]\n",
        "          # keep only events that happened after previous step and sort by time\n",
        "          merged = merged[merged['client_time_y'] >=\n",
        "                          merged['client_time_x']].sort_values('client_time_y', ascending=True)\n",
        "          # take the minimum time of the valid ones for each user\n",
        "          merged = merged.drop_duplicates(subset=['user_id', 'event_name_x', 'event_name_y'], keep='first')\n",
        "          # keep only the necessary columns and rename them to match the original structure\n",
        "          merged = merged[['user_id', 'event_name_y', 'client_time_y']].rename({'event_name_y': 'event_name',\n",
        "                                                                                'client_time_y': 'client_time'}, axis=1)\n",
        "          # include the df in the df dictionary so that it can be joined to the next step's df\n",
        "          dfs[step] = merged\n",
        "      # append number of users to the \"values\" list\n",
        "      values.append(len(dfs[step]))\n",
        "\n",
        "    # create dataframe\n",
        "    funnel_df = pd.DataFrame({'step': steps, 'val': values})\n",
        "    # calculate percentage conversion for each step\n",
        "    funnel_df['pct'] = (100 - 100 * abs(funnel_df['val'].pct_change()).fillna(0)).astype(int)\n",
        "    # shift val by one to plot faded bars of previous step in background\n",
        "    funnel_df['val-1'] = funnel_df['val'].shift(1)\n",
        "    # calculate percentage conversion between each step and the first step in the funnel\n",
        "    funnel_df['pct_from_first'] = (funnel_df['val'] / funnel_df['val'].loc[0] * 100).fillna(0).astype(int)\n",
        "\n",
        "    return funnel_df\n",
        "\n",
        "\n",
        "def group_funnel_dfs(events, steps, col):\n",
        "    \"\"\"\n",
        "    Function used to create a dict of funnel dataframes used to generate a stacked funnel plot.\n",
        "    \"\"\"\n",
        "    dict_ = {}\n",
        "    \n",
        "    # get the distinct_ids for each property that we are grouping by\n",
        "    ids = dict(events.groupby([col])['user_id'].apply(set))\n",
        "\n",
        "    for entry in events[col].dropna().unique():\n",
        "        ids_list = ids[entry]\n",
        "        df = events[events['user_id'].isin(ids_list)].copy()\n",
        "        if len(df[df['event_name'] == steps[0]]) > 0:\n",
        "           dict_[entry] = create_funnel_df(df, steps)\n",
        "\n",
        "    return dict_\n",
        "\n",
        "\n",
        "def plot_stacked_funnel(events, steps, col=None, from_date=None, to_date=None, step_interval=0):\n",
        "    \"\"\"\n",
        "    Function used for producing a (stacked) funnel plot.\n",
        "    \"\"\"\n",
        "    # create list to append each trace to\n",
        "    # this will be passed to \"go.Figure\" at the end\n",
        "    data = []\n",
        "\n",
        "    # if col is provided, create a funnel_df for each entry in the \"col\"\n",
        "    if col:\n",
        "        # generate dict of funnel dataframes\n",
        "        dict_ = group_funnel_dfs(events, steps, col)\n",
        "        title = 'Funnel plot per {}'.format(col)\n",
        "    else:\n",
        "        funnel_df = create_funnel_df(events, steps, from_date=from_date, to_date=to_date, step_interval=step_interval)\n",
        "        dict_ = {'Total': funnel_df}\n",
        "        title = 'Funnel plot'\n",
        "\n",
        "    for t in dict_.keys():\n",
        "        trace = go.Funnel(\n",
        "            name=t,\n",
        "            y=dict_[t].step.values,\n",
        "            x=dict_[t].val.values,\n",
        "            textinfo=\"value+percent previous\"\n",
        "        )\n",
        "        data.append(trace)\n",
        "\n",
        "    layout = go.Layout(margin={\"l\": 180, \"r\": 0, \"t\": 30, \"b\": 0, \"pad\": 0},\n",
        "                       height=400, width=1000,\n",
        "                       funnelmode=\"stack\",\n",
        "                       showlegend=True,\n",
        "                       hovermode='closest',\n",
        "                       title='Funnel plot per {}'.format(col),\n",
        "                       legend=dict(orientation=\"v\",\n",
        "                                   bgcolor='#E2E2E2',\n",
        "                                   xanchor='left',\n",
        "                                   font=dict(\n",
        "                                       size=12)\n",
        "                                   )\n",
        "                       )\n",
        "\n",
        "    return go.Figure(data, layout)"
      ],
      "execution_count": 5,
      "outputs": []
    },
    {
      "cell_type": "markdown",
      "metadata": {
        "id": "IIhS-AhJttzg"
      },
      "source": [
        "# Test 1.1 FTUE (5-7 часов)\n",
        "Используя предоставленный датасет, изучите воронку обучения и в целом вступление в игру. Сформулируйте гипотезы о том, что можно улучшить, подкрепите их данными. Обучение можно считать пройденным, когда пройдена первая грядка."
      ]
    },
    {
      "cell_type": "code",
      "metadata": {
        "id": "lZ9N_qRRtg6z"
      },
      "source": [
        "# Построим воронку от установки до прохождения первой грядки\n",
        "steps = ['appInstall', 'learning', 'gladeComplete']\n",
        "fig = plot_stacked_funnel(df, steps, col='media_source') "
      ],
      "execution_count": 14,
      "outputs": []
    },
    {
      "cell_type": "code",
      "metadata": {
        "colab": {
          "base_uri": "https://localhost:8080/",
          "height": 417
        },
        "id": "_WCyGeSHzDvq",
        "outputId": "a40812ee-1216-45c4-d7b7-7dacdb52bf60"
      },
      "source": [
        "fig.show()"
      ],
      "execution_count": 51,
      "outputs": [
        {
          "output_type": "display_data",
          "data": {
            "text/html": [
              "<html>\n",
              "<head><meta charset=\"utf-8\" /></head>\n",
              "<body>\n",
              "    <div>\n",
              "            <script src=\"https://cdnjs.cloudflare.com/ajax/libs/mathjax/2.7.5/MathJax.js?config=TeX-AMS-MML_SVG\"></script><script type=\"text/javascript\">if (window.MathJax) {MathJax.Hub.Config({SVG: {font: \"STIX-Web\"}});}</script>\n",
              "                <script type=\"text/javascript\">window.PlotlyConfig = {MathJaxConfig: 'local'};</script>\n",
              "        <script src=\"https://cdn.plot.ly/plotly-latest.min.js\"></script>    \n",
              "            <div id=\"e7d9b87e-d7f2-4c00-ae28-03b9bb35b0fa\" class=\"plotly-graph-div\" style=\"height:400px; width:1000px;\"></div>\n",
              "            <script type=\"text/javascript\">\n",
              "                \n",
              "                    window.PLOTLYENV=window.PLOTLYENV || {};\n",
              "                    \n",
              "                if (document.getElementById(\"e7d9b87e-d7f2-4c00-ae28-03b9bb35b0fa\")) {\n",
              "                    Plotly.newPlot(\n",
              "                        'e7d9b87e-d7f2-4c00-ae28-03b9bb35b0fa',\n",
              "                        [{\"name\": \"organic\", \"textinfo\": \"value+percent previous\", \"type\": \"funnel\", \"x\": [293, 287, 162], \"y\": [\"appInstall\", \"learning\", \"gladeComplete\"]}, {\"name\": \"ad-traffic\", \"textinfo\": \"value+percent previous\", \"type\": \"funnel\", \"x\": [159, 159, 130], \"y\": [\"appInstall\", \"learning\", \"gladeComplete\"]}],\n",
              "                        {\"funnelmode\": \"stack\", \"height\": 400, \"hovermode\": \"closest\", \"legend\": {\"bgcolor\": \"#E2E2E2\", \"font\": {\"size\": 12}, \"orientation\": \"v\", \"xanchor\": \"left\"}, \"margin\": {\"b\": 0, \"l\": 180, \"pad\": 0, \"r\": 0, \"t\": 30}, \"showlegend\": true, \"template\": {\"data\": {\"bar\": [{\"error_x\": {\"color\": \"#2a3f5f\"}, \"error_y\": {\"color\": \"#2a3f5f\"}, \"marker\": {\"line\": {\"color\": \"#E5ECF6\", \"width\": 0.5}}, \"type\": \"bar\"}], \"barpolar\": [{\"marker\": {\"line\": {\"color\": \"#E5ECF6\", \"width\": 0.5}}, \"type\": \"barpolar\"}], \"carpet\": [{\"aaxis\": {\"endlinecolor\": \"#2a3f5f\", \"gridcolor\": \"white\", \"linecolor\": \"white\", \"minorgridcolor\": \"white\", \"startlinecolor\": \"#2a3f5f\"}, \"baxis\": {\"endlinecolor\": \"#2a3f5f\", \"gridcolor\": \"white\", \"linecolor\": \"white\", \"minorgridcolor\": \"white\", \"startlinecolor\": \"#2a3f5f\"}, \"type\": \"carpet\"}], \"choropleth\": [{\"colorbar\": {\"outlinewidth\": 0, \"ticks\": \"\"}, \"type\": \"choropleth\"}], \"contour\": [{\"colorbar\": {\"outlinewidth\": 0, \"ticks\": \"\"}, \"colorscale\": [[0.0, \"#0d0887\"], [0.1111111111111111, \"#46039f\"], [0.2222222222222222, \"#7201a8\"], [0.3333333333333333, \"#9c179e\"], [0.4444444444444444, \"#bd3786\"], [0.5555555555555556, \"#d8576b\"], [0.6666666666666666, \"#ed7953\"], [0.7777777777777778, \"#fb9f3a\"], [0.8888888888888888, \"#fdca26\"], [1.0, \"#f0f921\"]], \"type\": \"contour\"}], \"contourcarpet\": [{\"colorbar\": {\"outlinewidth\": 0, \"ticks\": \"\"}, \"type\": \"contourcarpet\"}], \"heatmap\": [{\"colorbar\": {\"outlinewidth\": 0, \"ticks\": \"\"}, \"colorscale\": [[0.0, \"#0d0887\"], [0.1111111111111111, \"#46039f\"], [0.2222222222222222, \"#7201a8\"], [0.3333333333333333, \"#9c179e\"], [0.4444444444444444, \"#bd3786\"], [0.5555555555555556, \"#d8576b\"], [0.6666666666666666, \"#ed7953\"], [0.7777777777777778, \"#fb9f3a\"], [0.8888888888888888, \"#fdca26\"], [1.0, \"#f0f921\"]], \"type\": \"heatmap\"}], \"heatmapgl\": [{\"colorbar\": {\"outlinewidth\": 0, \"ticks\": \"\"}, \"colorscale\": [[0.0, \"#0d0887\"], [0.1111111111111111, \"#46039f\"], [0.2222222222222222, \"#7201a8\"], [0.3333333333333333, \"#9c179e\"], [0.4444444444444444, \"#bd3786\"], [0.5555555555555556, \"#d8576b\"], [0.6666666666666666, \"#ed7953\"], [0.7777777777777778, \"#fb9f3a\"], [0.8888888888888888, \"#fdca26\"], [1.0, \"#f0f921\"]], \"type\": \"heatmapgl\"}], \"histogram\": [{\"marker\": {\"colorbar\": {\"outlinewidth\": 0, \"ticks\": \"\"}}, \"type\": \"histogram\"}], \"histogram2d\": [{\"colorbar\": {\"outlinewidth\": 0, \"ticks\": \"\"}, \"colorscale\": [[0.0, \"#0d0887\"], [0.1111111111111111, \"#46039f\"], [0.2222222222222222, \"#7201a8\"], [0.3333333333333333, \"#9c179e\"], [0.4444444444444444, \"#bd3786\"], [0.5555555555555556, \"#d8576b\"], [0.6666666666666666, \"#ed7953\"], [0.7777777777777778, \"#fb9f3a\"], [0.8888888888888888, \"#fdca26\"], [1.0, \"#f0f921\"]], \"type\": \"histogram2d\"}], \"histogram2dcontour\": [{\"colorbar\": {\"outlinewidth\": 0, \"ticks\": \"\"}, \"colorscale\": [[0.0, \"#0d0887\"], [0.1111111111111111, \"#46039f\"], [0.2222222222222222, \"#7201a8\"], [0.3333333333333333, \"#9c179e\"], [0.4444444444444444, \"#bd3786\"], [0.5555555555555556, \"#d8576b\"], [0.6666666666666666, \"#ed7953\"], [0.7777777777777778, \"#fb9f3a\"], [0.8888888888888888, \"#fdca26\"], [1.0, \"#f0f921\"]], \"type\": \"histogram2dcontour\"}], \"mesh3d\": [{\"colorbar\": {\"outlinewidth\": 0, \"ticks\": \"\"}, \"type\": \"mesh3d\"}], \"parcoords\": [{\"line\": {\"colorbar\": {\"outlinewidth\": 0, \"ticks\": \"\"}}, \"type\": \"parcoords\"}], \"pie\": [{\"automargin\": true, \"type\": \"pie\"}], \"scatter\": [{\"marker\": {\"colorbar\": {\"outlinewidth\": 0, \"ticks\": \"\"}}, \"type\": \"scatter\"}], \"scatter3d\": [{\"line\": {\"colorbar\": {\"outlinewidth\": 0, \"ticks\": \"\"}}, \"marker\": {\"colorbar\": {\"outlinewidth\": 0, \"ticks\": \"\"}}, \"type\": \"scatter3d\"}], \"scattercarpet\": [{\"marker\": {\"colorbar\": {\"outlinewidth\": 0, \"ticks\": \"\"}}, \"type\": \"scattercarpet\"}], \"scattergeo\": [{\"marker\": {\"colorbar\": {\"outlinewidth\": 0, \"ticks\": \"\"}}, \"type\": \"scattergeo\"}], \"scattergl\": [{\"marker\": {\"colorbar\": {\"outlinewidth\": 0, \"ticks\": \"\"}}, \"type\": \"scattergl\"}], \"scattermapbox\": [{\"marker\": {\"colorbar\": {\"outlinewidth\": 0, \"ticks\": \"\"}}, \"type\": \"scattermapbox\"}], \"scatterpolar\": [{\"marker\": {\"colorbar\": {\"outlinewidth\": 0, \"ticks\": \"\"}}, \"type\": \"scatterpolar\"}], \"scatterpolargl\": [{\"marker\": {\"colorbar\": {\"outlinewidth\": 0, \"ticks\": \"\"}}, \"type\": \"scatterpolargl\"}], \"scatterternary\": [{\"marker\": {\"colorbar\": {\"outlinewidth\": 0, \"ticks\": \"\"}}, \"type\": \"scatterternary\"}], \"surface\": [{\"colorbar\": {\"outlinewidth\": 0, \"ticks\": \"\"}, \"colorscale\": [[0.0, \"#0d0887\"], [0.1111111111111111, \"#46039f\"], [0.2222222222222222, \"#7201a8\"], [0.3333333333333333, \"#9c179e\"], [0.4444444444444444, \"#bd3786\"], [0.5555555555555556, \"#d8576b\"], [0.6666666666666666, \"#ed7953\"], [0.7777777777777778, \"#fb9f3a\"], [0.8888888888888888, \"#fdca26\"], [1.0, \"#f0f921\"]], \"type\": \"surface\"}], \"table\": [{\"cells\": {\"fill\": {\"color\": \"#EBF0F8\"}, \"line\": {\"color\": \"white\"}}, \"header\": {\"fill\": {\"color\": \"#C8D4E3\"}, \"line\": {\"color\": \"white\"}}, \"type\": \"table\"}]}, \"layout\": {\"annotationdefaults\": {\"arrowcolor\": \"#2a3f5f\", \"arrowhead\": 0, \"arrowwidth\": 1}, \"coloraxis\": {\"colorbar\": {\"outlinewidth\": 0, \"ticks\": \"\"}}, \"colorscale\": {\"diverging\": [[0, \"#8e0152\"], [0.1, \"#c51b7d\"], [0.2, \"#de77ae\"], [0.3, \"#f1b6da\"], [0.4, \"#fde0ef\"], [0.5, \"#f7f7f7\"], [0.6, \"#e6f5d0\"], [0.7, \"#b8e186\"], [0.8, \"#7fbc41\"], [0.9, \"#4d9221\"], [1, \"#276419\"]], \"sequential\": [[0.0, \"#0d0887\"], [0.1111111111111111, \"#46039f\"], [0.2222222222222222, \"#7201a8\"], [0.3333333333333333, \"#9c179e\"], [0.4444444444444444, \"#bd3786\"], [0.5555555555555556, \"#d8576b\"], [0.6666666666666666, \"#ed7953\"], [0.7777777777777778, \"#fb9f3a\"], [0.8888888888888888, \"#fdca26\"], [1.0, \"#f0f921\"]], \"sequentialminus\": [[0.0, \"#0d0887\"], [0.1111111111111111, \"#46039f\"], [0.2222222222222222, \"#7201a8\"], [0.3333333333333333, \"#9c179e\"], [0.4444444444444444, \"#bd3786\"], [0.5555555555555556, \"#d8576b\"], [0.6666666666666666, \"#ed7953\"], [0.7777777777777778, \"#fb9f3a\"], [0.8888888888888888, \"#fdca26\"], [1.0, \"#f0f921\"]]}, \"colorway\": [\"#636efa\", \"#EF553B\", \"#00cc96\", \"#ab63fa\", \"#FFA15A\", \"#19d3f3\", \"#FF6692\", \"#B6E880\", \"#FF97FF\", \"#FECB52\"], \"font\": {\"color\": \"#2a3f5f\"}, \"geo\": {\"bgcolor\": \"white\", \"lakecolor\": \"white\", \"landcolor\": \"#E5ECF6\", \"showlakes\": true, \"showland\": true, \"subunitcolor\": \"white\"}, \"hoverlabel\": {\"align\": \"left\"}, \"hovermode\": \"closest\", \"mapbox\": {\"style\": \"light\"}, \"paper_bgcolor\": \"white\", \"plot_bgcolor\": \"#E5ECF6\", \"polar\": {\"angularaxis\": {\"gridcolor\": \"white\", \"linecolor\": \"white\", \"ticks\": \"\"}, \"bgcolor\": \"#E5ECF6\", \"radialaxis\": {\"gridcolor\": \"white\", \"linecolor\": \"white\", \"ticks\": \"\"}}, \"scene\": {\"xaxis\": {\"backgroundcolor\": \"#E5ECF6\", \"gridcolor\": \"white\", \"gridwidth\": 2, \"linecolor\": \"white\", \"showbackground\": true, \"ticks\": \"\", \"zerolinecolor\": \"white\"}, \"yaxis\": {\"backgroundcolor\": \"#E5ECF6\", \"gridcolor\": \"white\", \"gridwidth\": 2, \"linecolor\": \"white\", \"showbackground\": true, \"ticks\": \"\", \"zerolinecolor\": \"white\"}, \"zaxis\": {\"backgroundcolor\": \"#E5ECF6\", \"gridcolor\": \"white\", \"gridwidth\": 2, \"linecolor\": \"white\", \"showbackground\": true, \"ticks\": \"\", \"zerolinecolor\": \"white\"}}, \"shapedefaults\": {\"line\": {\"color\": \"#2a3f5f\"}}, \"ternary\": {\"aaxis\": {\"gridcolor\": \"white\", \"linecolor\": \"white\", \"ticks\": \"\"}, \"baxis\": {\"gridcolor\": \"white\", \"linecolor\": \"white\", \"ticks\": \"\"}, \"bgcolor\": \"#E5ECF6\", \"caxis\": {\"gridcolor\": \"white\", \"linecolor\": \"white\", \"ticks\": \"\"}}, \"title\": {\"x\": 0.05}, \"xaxis\": {\"automargin\": true, \"gridcolor\": \"white\", \"linecolor\": \"white\", \"ticks\": \"\", \"title\": {\"standoff\": 15}, \"zerolinecolor\": \"white\", \"zerolinewidth\": 2}, \"yaxis\": {\"automargin\": true, \"gridcolor\": \"white\", \"linecolor\": \"white\", \"ticks\": \"\", \"title\": {\"standoff\": 15}, \"zerolinecolor\": \"white\", \"zerolinewidth\": 2}}}, \"title\": {\"text\": \"Funnel plot per media_source\"}, \"width\": 1000},\n",
              "                        {\"responsive\": true}\n",
              "                    ).then(function(){\n",
              "                            \n",
              "var gd = document.getElementById('e7d9b87e-d7f2-4c00-ae28-03b9bb35b0fa');\n",
              "var x = new MutationObserver(function (mutations, observer) {{\n",
              "        var display = window.getComputedStyle(gd).display;\n",
              "        if (!display || display === 'none') {{\n",
              "            console.log([gd, 'removed!']);\n",
              "            Plotly.purge(gd);\n",
              "            observer.disconnect();\n",
              "        }}\n",
              "}});\n",
              "\n",
              "// Listen for the removal of the full notebook cells\n",
              "var notebookContainer = gd.closest('#notebook-container');\n",
              "if (notebookContainer) {{\n",
              "    x.observe(notebookContainer, {childList: true});\n",
              "}}\n",
              "\n",
              "// Listen for the clearing of the current output cell\n",
              "var outputEl = gd.closest('.output');\n",
              "if (outputEl) {{\n",
              "    x.observe(outputEl, {childList: true});\n",
              "}}\n",
              "\n",
              "                        })\n",
              "                };\n",
              "                \n",
              "            </script>\n",
              "        </div>\n",
              "</body>\n",
              "</html>"
            ]
          },
          "metadata": {}
        }
      ]
    },
    {
      "cell_type": "code",
      "metadata": {
        "id": "57xSONLa3x_4"
      },
      "source": [
        "# рассчитать 1 day retention для каждого шага отдельно\n",
        "# т.к. пользователей, установовших игру не так много, то можно не рассматривать когорты\n",
        "def create_retention_df(df, steps, from_date=None, to_date=None, step_interval=0):\n",
        "    \"\"\"\n",
        "    Function used to create a dataframe that can be passed to functions for generating funnel plots.\n",
        "    \"\"\"\n",
        "    # filter df for only events in the steps list\n",
        "    df = df[['user_id', 'event_name', 'client_time']]\n",
        "    df = df[df['event_name'].isin(steps)]\n",
        "\n",
        "    values = []\n",
        "    # for the rest steps, create a df and filter only for that step\n",
        "    for i, step in enumerate(steps):\n",
        "      if i == 0:\n",
        "          dfs = {}\n",
        "          dfs[step] = df[df['event_name'] == step] \\\n",
        "              .sort_values(['user_id', 'client_time'], ascending=True) \\\n",
        "              .drop_duplicates(subset=['user_id', 'event_name'], keep='first')\n",
        "\n",
        "          # filter df of 1st step according to dates\n",
        "          if from_date:\n",
        "              dfs[step] = dfs[step][(dfs[step]['time'] >= from_date)]\n",
        "\n",
        "          if to_date:\n",
        "              dfs[step] = dfs[step][(dfs[step]['time'] <= to_date)]\n",
        "\n",
        "      else:\n",
        "          dfs[step] = df[df['event_name'] == step]\n",
        "          # outer join with previous step\n",
        "          merged = pd.merge(dfs[steps[i - 1]], dfs[step], on='user_id', how='outer')\n",
        "\n",
        "          # keep only rows for which the distinct_ids appear in the previous step\n",
        "          valid_ids = dfs[steps[i - 1]]['user_id'].unique()\n",
        "          merged = merged[merged['user_id'].isin(valid_ids)]\n",
        "          # keep only events that happened after previous step and sort by time\n",
        "          merged = merged[merged['client_time_y'] >=\n",
        "                          merged['client_time_x']].sort_values('client_time_y', ascending=True)\n",
        "          # take the minimum time of the valid ones for each user\n",
        "          merged = merged.drop_duplicates(subset=['user_id', 'event_name_x', 'event_name_y'], keep='first')\n",
        "          # keep only the necessary columns and rename them to match the original structure\n",
        "          merged = merged[['user_id', 'event_name_y', 'client_time_y']].rename({'event_name_y': 'event_name',\n",
        "                                                                                'client_time_y': 'client_time'}, axis=1)\n",
        "          # include the df in the df dictionary so that it can be joined to the next step's df\n",
        "          dfs[step] = merged\n",
        "      \n",
        "\n",
        "    return dfs"
      ],
      "execution_count": 16,
      "outputs": []
    },
    {
      "cell_type": "code",
      "metadata": {
        "id": "H42TfghW7iwt"
      },
      "source": [
        "retent_1d = {}\n",
        "dfs = create_retention_df(df, steps)\n",
        "for k in dfs.keys():\n",
        "\n",
        "    delta_time = []\n",
        "    for row in dfs[k][['user_id', 'client_time']].values:\n",
        "        cur_df = df[df['user_id']==row[0]].sort_values(['client_time'])\n",
        "        cur_df = cur_df[cur_df['client_time'] > row[1]]\n",
        "        if cur_df.shape[0] != 0:\n",
        "            next_motion_time = (cur_df['client_time'] - row[1]) // np.timedelta64(1, 'D')\n",
        "            delta_time += [any(next_motion_time == 1)]\n",
        "\n",
        "    retent_1d[k] = sum(delta_time) / float(dfs[k].shape[0])"
      ],
      "execution_count": 52,
      "outputs": []
    },
    {
      "cell_type": "code",
      "metadata": {
        "colab": {
          "base_uri": "https://localhost:8080/"
        },
        "id": "hfc-jBTPFDCE",
        "outputId": "d324ba80-6c56-4c0b-b1c2-fb32b7d32902"
      },
      "source": [
        "retent_1d"
      ],
      "execution_count": 53,
      "outputs": [
        {
          "output_type": "execute_result",
          "data": {
            "text/plain": [
              "{'appInstall': 0.48451327433628316,\n",
              " 'gladeComplete': 0.5376712328767124,\n",
              " 'learning': 0.48654708520179374}"
            ]
          },
          "metadata": {},
          "execution_count": 53
        }
      ]
    },
    {
      "cell_type": "code",
      "metadata": {
        "id": "fpWiLmxW18Mh"
      },
      "source": [
        "# посмотреть на статистику по времени прохождения обучения \n",
        "test_df = pd.merge(dfs['appInstall'], dfs['learning'], on='user_id', how='outer')\n",
        "test_df = pd.merge(test_df, dfs['gladeComplete'], on='user_id', how='outer')\n",
        "inst_learn_delta = test_df['client_time_y'] - test_df['client_time_x']\n",
        "learn_glade_delta = test_df['client_time'] - test_df['client_time_y']"
      ],
      "execution_count": 19,
      "outputs": []
    },
    {
      "cell_type": "code",
      "metadata": {
        "colab": {
          "base_uri": "https://localhost:8080/",
          "height": 310
        },
        "id": "UaJ6GHYsKpNH",
        "outputId": "bb9fe0f9-b692-4a84-d860-9414433ac137"
      },
      "source": [
        "_, ax = plt.subplots()\n",
        "(inst_learn_delta // np.timedelta64(1,'D')).hist(ec='k')\n",
        "ax.set_xlabel('days'), ax.set_ylabel('count')\n",
        "ret = round(100 * np.sum(inst_learn_delta // np.timedelta64(1,'D') == 0) / inst_learn_delta.dropna().shape[0], 2)\n",
        "ax.set_title(f'Распределение времени от скачивания до обучения,\\\n",
        "              \\n доля пользователей, которые проходят за 1 день {ret}%');"
      ],
      "execution_count": 20,
      "outputs": [
        {
          "output_type": "display_data",
          "data": {
            "image/png": "[encoded data removed]",
            "text/plain": [
              "<Figure size 432x288 with 1 Axes>"
            ]
          },
          "metadata": {
            "needs_background": "light"
          }
        }
      ]
    },
    {
      "cell_type": "code",
      "metadata": {
        "colab": {
          "base_uri": "https://localhost:8080/",
          "height": 310
        },
        "id": "DYm-llqNMrp6",
        "outputId": "c528749d-633b-49a2-ec85-ba0efe4c6236"
      },
      "source": [
        "_, ax = plt.subplots()\n",
        "(learn_glade_delta // np.timedelta64(1,'D')).hist(ec='k')\n",
        "ax.set_xlabel('days'), ax.set_ylabel('count')\n",
        "ret = round(100 * np.sum(learn_glade_delta // np.timedelta64(1,'D') == 0) / learn_glade_delta.dropna().shape[0], 2)\n",
        "ax.set_title(f'Распределение времени от начала обучения до прохождения первой грядки\\n доля пользователей, которые проходят за 1 день {ret}%');"
      ],
      "execution_count": 21,
      "outputs": [
        {
          "output_type": "display_data",
          "data": {
            "image/png": "[encoded data removed]",
            "text/plain": [
              "<Figure size 432x288 with 1 Axes>"
            ]
          },
          "metadata": {
            "needs_background": "light"
          }
        }
      ]
    },
    {
      "cell_type": "markdown",
      "metadata": {
        "id": "CdrDsExTirla"
      },
      "source": [
        "Из данных результатов, видно, что пользователи достаточно быстро обучаются и проходят первую грядку."
      ]
    },
    {
      "cell_type": "code",
      "metadata": {
        "id": "cT1wryGZXPjU"
      },
      "source": [
        "# построить распределение кол-во подсказок, кол-во уровней при прохождении первой грядки\n",
        "test_df = pd.merge(dfs['learning'], dfs['gladeComplete'], on='user_id', how='outer')\n",
        "cur_df = pd.isna(test_df).any(1)\n",
        "nan_idx = cur_df[cur_df == True]\n",
        "nona_idx = cur_df[cur_df == False]\n",
        "\n",
        "learn_nan_count = []\n",
        "learn_nona_count = []\n",
        "for i in nan_idx.index.values:\n",
        "    learn_nan_count += [df[(df['event_name']=='learning') & (df['user_id'] == test_df.iloc[i]['user_id'])].shape[0]]\n",
        "\n",
        "for i in nona_idx.index.values:\n",
        "    learn_nona_count += [df[(df['event_name']=='learning') & (df['user_id'] == test_df.iloc[i]['user_id'])].shape[0]]\n",
        "\n",
        "plot_df = pd.DataFrame({'x': learn_nona_count + learn_nan_count,\n",
        "                        'finish_glade': ['yes']*len(learn_nona_count) + ['no']*len(learn_nan_count)})"
      ],
      "execution_count": 22,
      "outputs": []
    },
    {
      "cell_type": "code",
      "metadata": {
        "colab": {
          "base_uri": "https://localhost:8080/",
          "height": 326
        },
        "id": "uDcWvkyYdAKa",
        "outputId": "e939c7aa-5e6c-48c9-9ad2-f9be14ba4559"
      },
      "source": [
        "_, ax = plt.subplots()   \n",
        "sns.histplot(data=plot_df, x='x', hue='finish_glade', ax=ax, multiple=\"dodge\")\n",
        "ax.set_xlabel('кол-во подсказок при обучении'), ax.set_ylabel('count')\n",
        "ax.set_title('Распределение кол-ва подсказок, которые используют пользователи при обучении\\\n",
        "              \\nсреднее кол-во подсказок для тех, кто прошел обучение -- %d\\\n",
        "              \\nсреднее кол-во подсказок для тех, кто ушел на обучении -- %d' % (plot_df[plot_df['finish_glade']=='yes']['x'].mean(),\n",
        "                                                                                 plot_df[plot_df['finish_glade']=='no']['x'].mean()));"
      ],
      "execution_count": 23,
      "outputs": [
        {
          "output_type": "display_data",
          "data": {
            "image/png": "[encoded data removed]",
            "text/plain": [
              "<Figure size 432x288 with 1 Axes>"
            ]
          },
          "metadata": {
            "needs_background": "light"
          }
        }
      ]
    },
    {
      "cell_type": "code",
      "metadata": {
        "id": "GOxqWOwQQf7z"
      },
      "source": [
        "# рассмотрим какие бустеры используют пользователи:\n",
        "get_dict = lambda x: list(ast.literal_eval(x).values())\n",
        "boost_data_nan = []\n",
        "boost_data_nona = []\n",
        "for i in nan_idx.index.values:\n",
        "    boost_data_nan += [df[(df['event_name']=='getBooster') & \n",
        "                          (df['user_id'] == test_df.iloc[i]['user_id'])]['event_data'].reset_index(drop=True).apply(get_dict)]\n",
        "\n",
        "for i in nona_idx.index.values:\n",
        "    boost_data_nona += [df[(df['event_name']=='getBooster') & \n",
        "                           (df['user_id'] == test_df.iloc[i]['user_id'])]['event_data'].reset_index(drop=True).apply(get_dict)]"
      ],
      "execution_count": 24,
      "outputs": []
    },
    {
      "cell_type": "code",
      "metadata": {
        "colab": {
          "base_uri": "https://localhost:8080/"
        },
        "id": "Twnm1_4frUe4",
        "outputId": "f4345488-2bd3-4ce8-a176-5b62565e5005"
      },
      "source": [
        "boost_data = {'freeExtraCards':[], 'freeLevels':[], 'freeUndo':[], 'freeWildCard':[], 'finish_glade':[]}\n",
        "\n",
        "for i, us_id_data in enumerate(boost_data_nona):\n",
        "    if us_id_data.shape[0] != 0:\n",
        "        from_l = []\n",
        "        for k in us_id_data:\n",
        "            if k[2] == -1:\n",
        "                from_l += [k[0]]\n",
        "                \n",
        "        un_count = np.unique(from_l, return_counts=True)\n",
        "        try:\n",
        "            boost_data['freeExtraCards'] += [un_count[1][un_count[0] == 'freeExtraCards'][0]]\n",
        "        except:\n",
        "            boost_data['freeExtraCards'] += [0]\n",
        "        try:\n",
        "            boost_data['freeLevels'] += [un_count[1][un_count[0] == 'freeLevels'][0]]\n",
        "        except:\n",
        "            boost_data['freeLevels'] += [0]\n",
        "        try:\n",
        "            boost_data['freeUndo'] += [un_count[1][un_count[0] == 'freeUndo'][0]]\n",
        "        except:\n",
        "            boost_data['freeUndo'] += [0]\n",
        "        try:\n",
        "            boost_data['freeWildCard'] += [un_count[1][un_count[0] == 'freeWildCard'][0]]\n",
        "        except:\n",
        "            boost_data['freeWildCard'] += [0]\n",
        "        boost_data['finish_glade'] += ['yes']\n",
        "    else:\n",
        "        un_count = np.unique(from_l, return_counts=True)\n",
        "        boost_data['freeExtraCards'] += [0]\n",
        "        boost_data['freeLevels'] += [0]\n",
        "        boost_data['freeUndo'] += [0]\n",
        "        boost_data['freeWildCard'] += [0]\n",
        "        boost_data['finish_glade'] += ['yes']\n",
        "\n",
        "for i, us_id_data in enumerate(boost_data_nan):\n",
        "    if us_id_data.shape[0] != 0:\n",
        "        from_l = []\n",
        "        for k in us_id_data:\n",
        "            if k[2] == -1:\n",
        "                from_l += [k[0]]\n",
        "                \n",
        "        un_count = np.unique(from_l, return_counts=True)\n",
        "        try:\n",
        "            boost_data['freeExtraCards'] += [un_count[1][un_count[0] == 'freeExtraCards'][0]]\n",
        "        except:\n",
        "            boost_data['freeExtraCards'] += [0]\n",
        "        try:\n",
        "            boost_data['freeLevels'] += [un_count[1][un_count[0] == 'freeLevels'][0]]\n",
        "        except:\n",
        "            boost_data['freeLevels'] += [0]\n",
        "        try:\n",
        "            boost_data['freeUndo'] += [un_count[1][un_count[0] == 'freeUndo'][0]]\n",
        "        except:\n",
        "            boost_data['freeUndo'] += [0]\n",
        "        try:\n",
        "            boost_data['freeWildCard'] += [un_count[1][un_count[0] == 'freeWildCard'][0]]\n",
        "        except:\n",
        "            boost_data['freeWildCard'] += [0]\n",
        "        boost_data['finish_glade'] += ['no']\n",
        "    else:\n",
        "        un_count = np.unique(from_l, return_counts=True)\n",
        "        boost_data['freeExtraCards'] += [0]\n",
        "        boost_data['freeLevels'] += [0]\n",
        "        boost_data['freeUndo'] += [0]\n",
        "        boost_data['freeWildCard'] += [0]\n",
        "        boost_data['finish_glade'] += ['no']\n",
        "\n",
        "boost_data = pd.DataFrame(boost_data)"
      ],
      "execution_count": 25,
      "outputs": [
        {
          "output_type": "stream",
          "name": "stderr",
          "text": [
            "/usr/local/lib/python3.7/dist-packages/ipykernel_launcher.py:45: FutureWarning:\n",
            "\n",
            "elementwise comparison failed; returning scalar instead, but in the future will perform elementwise comparison\n",
            "\n",
            "/usr/local/lib/python3.7/dist-packages/ipykernel_launcher.py:49: FutureWarning:\n",
            "\n",
            "elementwise comparison failed; returning scalar instead, but in the future will perform elementwise comparison\n",
            "\n",
            "/usr/local/lib/python3.7/dist-packages/ipykernel_launcher.py:53: FutureWarning:\n",
            "\n",
            "elementwise comparison failed; returning scalar instead, but in the future will perform elementwise comparison\n",
            "\n",
            "/usr/local/lib/python3.7/dist-packages/ipykernel_launcher.py:57: FutureWarning:\n",
            "\n",
            "elementwise comparison failed; returning scalar instead, but in the future will perform elementwise comparison\n",
            "\n"
          ]
        }
      ]
    },
    {
      "cell_type": "code",
      "metadata": {
        "colab": {
          "base_uri": "https://localhost:8080/",
          "height": 497
        },
        "id": "abH4x1eXulya",
        "outputId": "dab4f82b-a44f-4fe9-dee7-6c7583cca644"
      },
      "source": [
        "list_x = ['freeExtraCards', 'freeLevels', 'freeUndo', 'freeWildCard']\n",
        "_, ax = plt.subplots(ncols=2, nrows=2, figsize=(12, 8))   \n",
        "ax = ax.reshape(-1)\n",
        "for i in range(4):\n",
        "    sns.histplot(data=boost_data, x=list_x[i], hue='finish_glade', ax=ax[i], multiple=\"dodge\")\n",
        "    ax[i].set_xlabel(f'кол-во использованных бустов {list_x[i]}'), ax[i].set_ylabel('count');\n",
        "# ax.set_title('Распределение кол-ва подсказок, которые используют пользователи при обучении');"
      ],
      "execution_count": 26,
      "outputs": [
        {
          "output_type": "display_data",
          "data": {
            "image/png": "[encoded data removed]",
            "text/plain": [
              "<Figure size 864x576 with 4 Axes>"
            ]
          },
          "metadata": {
            "needs_background": "light"
          }
        }
      ]
    },
    {
      "cell_type": "code",
      "metadata": {
        "colab": {
          "base_uri": "https://localhost:8080/",
          "height": 80
        },
        "id": "FVV1_ZGQ1wso",
        "outputId": "e291efe1-299b-4a01-ec94-94b01119e6a9"
      },
      "source": [
        "boost_data[boost_data['freeWildCard']>150]"
      ],
      "execution_count": 27,
      "outputs": [
        {
          "output_type": "execute_result",
          "data": {
            "text/html": [
              "<div>\n",
              "<style scoped>\n",
              "    .dataframe tbody tr th:only-of-type {\n",
              "        vertical-align: middle;\n",
              "    }\n",
              "\n",
              "    .dataframe tbody tr th {\n",
              "        vertical-align: top;\n",
              "    }\n",
              "\n",
              "    .dataframe thead th {\n",
              "        text-align: right;\n",
              "    }\n",
              "</style>\n",
              "<table border=\"1\" class=\"dataframe\">\n",
              "  <thead>\n",
              "    <tr style=\"text-align: right;\">\n",
              "      <th></th>\n",
              "      <th>freeExtraCards</th>\n",
              "      <th>freeLevels</th>\n",
              "      <th>freeUndo</th>\n",
              "      <th>freeWildCard</th>\n",
              "      <th>finish_glade</th>\n",
              "    </tr>\n",
              "  </thead>\n",
              "  <tbody>\n",
              "    <tr>\n",
              "      <th>96</th>\n",
              "      <td>33</td>\n",
              "      <td>28</td>\n",
              "      <td>66</td>\n",
              "      <td>188</td>\n",
              "      <td>yes</td>\n",
              "    </tr>\n",
              "  </tbody>\n",
              "</table>\n",
              "</div>"
            ],
            "text/plain": [
              "    freeExtraCards  freeLevels  freeUndo  freeWildCard finish_glade\n",
              "96              33          28        66           188          yes"
            ]
          },
          "metadata": {},
          "execution_count": 27
        }
      ]
    },
    {
      "cell_type": "markdown",
      "metadata": {
        "id": "1exvaWpEwCiB"
      },
      "source": [
        "# Test 1.2 Качество контента (4-5 часов)\n",
        "Изучите то, как пользователи взаимодействуют с игровыми уровнями. Оцените качество первых 30 уровней игры: какие уровни хороши, какие нет и почему?"
      ]
    },
    {
      "cell_type": "code",
      "metadata": {
        "id": "FoAqHlkqbc68"
      },
      "source": [
        "level_data = {'id':[], 'stars':[], 'level':[], 'cardsOnField':[], 'cardsOnHands':[], 'time':[], 'win':[]}\n",
        "for id, user_data in df[df['event_name']=='levelEnd'].groupby(by='user_id'):\n",
        "    user_data = user_data.sort_values(by='client_time')\n",
        "    data = user_data['event_data'].reset_index(drop=True).apply(lambda x: json.loads(x))\n",
        "    for i in data:\n",
        "        try:\n",
        "            level = i['levelLoop']\n",
        "        except:\n",
        "            continue\n",
        "        if level in range(0, 31):\n",
        "            level_data['id'] += [id]\n",
        "            level_data['level'] += [level]\n",
        "            level_data['time'] += [i['time']]\n",
        "            level_data['stars'] += [i['stars']]\n",
        "            level_data['win'] += [i['win']]\n",
        "            level_data['cardsOnField'] += [i['cardsOnField']]\n",
        "            level_data['cardsOnHands'] += [i['cardsOnHands']]"
      ],
      "execution_count": 6,
      "outputs": []
    },
    {
      "cell_type": "code",
      "metadata": {
        "id": "lcvfN0vieBuD"
      },
      "source": [
        "level_data = pd.DataFrame(level_data)\n",
        "lev_win_data = {'level':[], 'mean_time':[], 'mean_stars':[], 'mean_cardsOnHands':[],\n",
        "                'VICTORY':[], 'VICTORY_WITH_BOOSTER':[], 'DEFEAT':[], 'NONE':[0], 'DEFEAT_WITH_BOOSTER':[]}\n",
        "for l, data in level_data.groupby(by='level'): \n",
        "    \n",
        "    lev_win_data['level'] += [l]\n",
        "    lev_win_data['mean_time'] += [data['time'].mean()]\n",
        "    lev_win_data['mean_stars'] += [round(data['stars'].mean())]\n",
        "    lev_win_data['mean_cardsOnHands'] += [round(data['cardsOnHands'].mean())]\n",
        "\n",
        "    data = data['win'].value_counts()\n",
        "    for k in ['VICTORY', 'VICTORY_WITH_BOOSTER', 'DEFEAT', 'NONE',\n",
        "              'DEFEAT_WITH_BOOSTER']:\n",
        "        try:\n",
        "            lev_win_data[k] += [data.loc[k]]\n",
        "        except:\n",
        "            lev_win_data[k] += [0]\n",
        "lev_win_data['NONE'] = lev_win_data['NONE'][:-1]\n",
        "lev_win_data = pd.DataFrame(lev_win_data)"
      ],
      "execution_count": 7,
      "outputs": []
    },
    {
      "cell_type": "code",
      "metadata": {
        "colab": {
          "base_uri": "https://localhost:8080/",
          "height": 886
        },
        "id": "ipWTjp863H_g",
        "outputId": "ff643715-f740-4bb0-d9d6-fbd626c685fc"
      },
      "source": [
        "lev_win_data"
      ],
      "execution_count": 8,
      "outputs": [
        {
          "output_type": "execute_result",
          "data": {
            "text/html": [
              "<div>\n",
              "<style scoped>\n",
              "    .dataframe tbody tr th:only-of-type {\n",
              "        vertical-align: middle;\n",
              "    }\n",
              "\n",
              "    .dataframe tbody tr th {\n",
              "        vertical-align: top;\n",
              "    }\n",
              "\n",
              "    .dataframe thead th {\n",
              "        text-align: right;\n",
              "    }\n",
              "</style>\n",
              "<table border=\"1\" class=\"dataframe\">\n",
              "  <thead>\n",
              "    <tr style=\"text-align: right;\">\n",
              "      <th></th>\n",
              "      <th>level</th>\n",
              "      <th>mean_time</th>\n",
              "      <th>mean_stars</th>\n",
              "      <th>mean_cardsOnHands</th>\n",
              "      <th>VICTORY</th>\n",
              "      <th>VICTORY_WITH_BOOSTER</th>\n",
              "      <th>DEFEAT</th>\n",
              "      <th>NONE</th>\n",
              "      <th>DEFEAT_WITH_BOOSTER</th>\n",
              "    </tr>\n",
              "  </thead>\n",
              "  <tbody>\n",
              "    <tr>\n",
              "      <th>0</th>\n",
              "      <td>0</td>\n",
              "      <td>148279.771345</td>\n",
              "      <td>2</td>\n",
              "      <td>1</td>\n",
              "      <td>1708</td>\n",
              "      <td>7099</td>\n",
              "      <td>3195</td>\n",
              "      <td>0</td>\n",
              "      <td>301</td>\n",
              "    </tr>\n",
              "    <tr>\n",
              "      <th>1</th>\n",
              "      <td>1</td>\n",
              "      <td>51789.764881</td>\n",
              "      <td>5</td>\n",
              "      <td>17</td>\n",
              "      <td>330</td>\n",
              "      <td>4</td>\n",
              "      <td>0</td>\n",
              "      <td>288</td>\n",
              "      <td>0</td>\n",
              "    </tr>\n",
              "    <tr>\n",
              "      <th>2</th>\n",
              "      <td>5</td>\n",
              "      <td>50147.500000</td>\n",
              "      <td>2</td>\n",
              "      <td>0</td>\n",
              "      <td>0</td>\n",
              "      <td>2</td>\n",
              "      <td>0</td>\n",
              "      <td>2</td>\n",
              "      <td>0</td>\n",
              "    </tr>\n",
              "    <tr>\n",
              "      <th>3</th>\n",
              "      <td>6</td>\n",
              "      <td>136419.653968</td>\n",
              "      <td>2</td>\n",
              "      <td>2</td>\n",
              "      <td>259</td>\n",
              "      <td>53</td>\n",
              "      <td>1</td>\n",
              "      <td>0</td>\n",
              "      <td>0</td>\n",
              "    </tr>\n",
              "    <tr>\n",
              "      <th>4</th>\n",
              "      <td>7</td>\n",
              "      <td>54194.022654</td>\n",
              "      <td>2</td>\n",
              "      <td>2</td>\n",
              "      <td>260</td>\n",
              "      <td>43</td>\n",
              "      <td>2</td>\n",
              "      <td>2</td>\n",
              "      <td>0</td>\n",
              "    </tr>\n",
              "    <tr>\n",
              "      <th>5</th>\n",
              "      <td>8</td>\n",
              "      <td>98549.165563</td>\n",
              "      <td>2</td>\n",
              "      <td>2</td>\n",
              "      <td>273</td>\n",
              "      <td>28</td>\n",
              "      <td>1</td>\n",
              "      <td>4</td>\n",
              "      <td>0</td>\n",
              "    </tr>\n",
              "    <tr>\n",
              "      <th>6</th>\n",
              "      <td>9</td>\n",
              "      <td>46237.000000</td>\n",
              "      <td>1</td>\n",
              "      <td>0</td>\n",
              "      <td>2</td>\n",
              "      <td>0</td>\n",
              "      <td>0</td>\n",
              "      <td>0</td>\n",
              "      <td>0</td>\n",
              "    </tr>\n",
              "    <tr>\n",
              "      <th>7</th>\n",
              "      <td>10</td>\n",
              "      <td>54226.500000</td>\n",
              "      <td>0</td>\n",
              "      <td>0</td>\n",
              "      <td>0</td>\n",
              "      <td>2</td>\n",
              "      <td>0</td>\n",
              "      <td>0</td>\n",
              "      <td>0</td>\n",
              "    </tr>\n",
              "    <tr>\n",
              "      <th>8</th>\n",
              "      <td>11</td>\n",
              "      <td>76381.703333</td>\n",
              "      <td>2</td>\n",
              "      <td>2</td>\n",
              "      <td>267</td>\n",
              "      <td>33</td>\n",
              "      <td>0</td>\n",
              "      <td>0</td>\n",
              "      <td>0</td>\n",
              "    </tr>\n",
              "    <tr>\n",
              "      <th>9</th>\n",
              "      <td>12</td>\n",
              "      <td>65582.030405</td>\n",
              "      <td>1</td>\n",
              "      <td>3</td>\n",
              "      <td>277</td>\n",
              "      <td>19</td>\n",
              "      <td>0</td>\n",
              "      <td>0</td>\n",
              "      <td>0</td>\n",
              "    </tr>\n",
              "    <tr>\n",
              "      <th>10</th>\n",
              "      <td>13</td>\n",
              "      <td>73787.556701</td>\n",
              "      <td>1</td>\n",
              "      <td>2</td>\n",
              "      <td>122</td>\n",
              "      <td>161</td>\n",
              "      <td>7</td>\n",
              "      <td>0</td>\n",
              "      <td>1</td>\n",
              "    </tr>\n",
              "    <tr>\n",
              "      <th>11</th>\n",
              "      <td>14</td>\n",
              "      <td>145442.322807</td>\n",
              "      <td>2</td>\n",
              "      <td>1</td>\n",
              "      <td>251</td>\n",
              "      <td>32</td>\n",
              "      <td>2</td>\n",
              "      <td>0</td>\n",
              "      <td>0</td>\n",
              "    </tr>\n",
              "    <tr>\n",
              "      <th>12</th>\n",
              "      <td>15</td>\n",
              "      <td>65279.512097</td>\n",
              "      <td>2</td>\n",
              "      <td>2</td>\n",
              "      <td>216</td>\n",
              "      <td>32</td>\n",
              "      <td>0</td>\n",
              "      <td>0</td>\n",
              "      <td>0</td>\n",
              "    </tr>\n",
              "    <tr>\n",
              "      <th>13</th>\n",
              "      <td>16</td>\n",
              "      <td>89424.562874</td>\n",
              "      <td>2</td>\n",
              "      <td>2</td>\n",
              "      <td>151</td>\n",
              "      <td>14</td>\n",
              "      <td>1</td>\n",
              "      <td>0</td>\n",
              "      <td>1</td>\n",
              "    </tr>\n",
              "    <tr>\n",
              "      <th>14</th>\n",
              "      <td>17</td>\n",
              "      <td>87800.867647</td>\n",
              "      <td>2</td>\n",
              "      <td>2</td>\n",
              "      <td>55</td>\n",
              "      <td>12</td>\n",
              "      <td>1</td>\n",
              "      <td>0</td>\n",
              "      <td>0</td>\n",
              "    </tr>\n",
              "    <tr>\n",
              "      <th>15</th>\n",
              "      <td>18</td>\n",
              "      <td>70271.629630</td>\n",
              "      <td>1</td>\n",
              "      <td>1</td>\n",
              "      <td>18</td>\n",
              "      <td>9</td>\n",
              "      <td>0</td>\n",
              "      <td>0</td>\n",
              "      <td>0</td>\n",
              "    </tr>\n",
              "    <tr>\n",
              "      <th>16</th>\n",
              "      <td>19</td>\n",
              "      <td>89654.416667</td>\n",
              "      <td>2</td>\n",
              "      <td>1</td>\n",
              "      <td>10</td>\n",
              "      <td>2</td>\n",
              "      <td>0</td>\n",
              "      <td>0</td>\n",
              "      <td>0</td>\n",
              "    </tr>\n",
              "    <tr>\n",
              "      <th>17</th>\n",
              "      <td>20</td>\n",
              "      <td>92714.428571</td>\n",
              "      <td>1</td>\n",
              "      <td>2</td>\n",
              "      <td>4</td>\n",
              "      <td>3</td>\n",
              "      <td>0</td>\n",
              "      <td>0</td>\n",
              "      <td>0</td>\n",
              "    </tr>\n",
              "    <tr>\n",
              "      <th>18</th>\n",
              "      <td>21</td>\n",
              "      <td>70014.600000</td>\n",
              "      <td>1</td>\n",
              "      <td>2</td>\n",
              "      <td>3</td>\n",
              "      <td>2</td>\n",
              "      <td>0</td>\n",
              "      <td>0</td>\n",
              "      <td>0</td>\n",
              "    </tr>\n",
              "    <tr>\n",
              "      <th>19</th>\n",
              "      <td>22</td>\n",
              "      <td>92544.333333</td>\n",
              "      <td>2</td>\n",
              "      <td>2</td>\n",
              "      <td>1</td>\n",
              "      <td>2</td>\n",
              "      <td>0</td>\n",
              "      <td>0</td>\n",
              "      <td>0</td>\n",
              "    </tr>\n",
              "    <tr>\n",
              "      <th>20</th>\n",
              "      <td>23</td>\n",
              "      <td>98443.666667</td>\n",
              "      <td>2</td>\n",
              "      <td>1</td>\n",
              "      <td>1</td>\n",
              "      <td>2</td>\n",
              "      <td>0</td>\n",
              "      <td>0</td>\n",
              "      <td>0</td>\n",
              "    </tr>\n",
              "    <tr>\n",
              "      <th>21</th>\n",
              "      <td>24</td>\n",
              "      <td>63658.666667</td>\n",
              "      <td>4</td>\n",
              "      <td>0</td>\n",
              "      <td>2</td>\n",
              "      <td>1</td>\n",
              "      <td>0</td>\n",
              "      <td>0</td>\n",
              "      <td>0</td>\n",
              "    </tr>\n",
              "    <tr>\n",
              "      <th>22</th>\n",
              "      <td>25</td>\n",
              "      <td>68822.000000</td>\n",
              "      <td>2</td>\n",
              "      <td>0</td>\n",
              "      <td>0</td>\n",
              "      <td>2</td>\n",
              "      <td>0</td>\n",
              "      <td>0</td>\n",
              "      <td>0</td>\n",
              "    </tr>\n",
              "    <tr>\n",
              "      <th>23</th>\n",
              "      <td>26</td>\n",
              "      <td>64497.500000</td>\n",
              "      <td>2</td>\n",
              "      <td>2</td>\n",
              "      <td>1</td>\n",
              "      <td>0</td>\n",
              "      <td>1</td>\n",
              "      <td>0</td>\n",
              "      <td>0</td>\n",
              "    </tr>\n",
              "    <tr>\n",
              "      <th>24</th>\n",
              "      <td>28</td>\n",
              "      <td>54863.500000</td>\n",
              "      <td>1</td>\n",
              "      <td>0</td>\n",
              "      <td>0</td>\n",
              "      <td>1</td>\n",
              "      <td>1</td>\n",
              "      <td>0</td>\n",
              "      <td>0</td>\n",
              "    </tr>\n",
              "    <tr>\n",
              "      <th>25</th>\n",
              "      <td>29</td>\n",
              "      <td>67991.411348</td>\n",
              "      <td>2</td>\n",
              "      <td>2</td>\n",
              "      <td>114</td>\n",
              "      <td>157</td>\n",
              "      <td>10</td>\n",
              "      <td>0</td>\n",
              "      <td>1</td>\n",
              "    </tr>\n",
              "    <tr>\n",
              "      <th>26</th>\n",
              "      <td>30</td>\n",
              "      <td>84335.167273</td>\n",
              "      <td>3</td>\n",
              "      <td>2</td>\n",
              "      <td>203</td>\n",
              "      <td>68</td>\n",
              "      <td>3</td>\n",
              "      <td>0</td>\n",
              "      <td>1</td>\n",
              "    </tr>\n",
              "  </tbody>\n",
              "</table>\n",
              "</div>"
            ],
            "text/plain": [
              "    level      mean_time  mean_stars  ...  DEFEAT  NONE  DEFEAT_WITH_BOOSTER\n",
              "0       0  148279.771345           2  ...    3195     0                  301\n",
              "1       1   51789.764881           5  ...       0   288                    0\n",
              "2       5   50147.500000           2  ...       0     2                    0\n",
              "3       6  136419.653968           2  ...       1     0                    0\n",
              "4       7   54194.022654           2  ...       2     2                    0\n",
              "5       8   98549.165563           2  ...       1     4                    0\n",
              "6       9   46237.000000           1  ...       0     0                    0\n",
              "7      10   54226.500000           0  ...       0     0                    0\n",
              "8      11   76381.703333           2  ...       0     0                    0\n",
              "9      12   65582.030405           1  ...       0     0                    0\n",
              "10     13   73787.556701           1  ...       7     0                    1\n",
              "11     14  145442.322807           2  ...       2     0                    0\n",
              "12     15   65279.512097           2  ...       0     0                    0\n",
              "13     16   89424.562874           2  ...       1     0                    1\n",
              "14     17   87800.867647           2  ...       1     0                    0\n",
              "15     18   70271.629630           1  ...       0     0                    0\n",
              "16     19   89654.416667           2  ...       0     0                    0\n",
              "17     20   92714.428571           1  ...       0     0                    0\n",
              "18     21   70014.600000           1  ...       0     0                    0\n",
              "19     22   92544.333333           2  ...       0     0                    0\n",
              "20     23   98443.666667           2  ...       0     0                    0\n",
              "21     24   63658.666667           4  ...       0     0                    0\n",
              "22     25   68822.000000           2  ...       0     0                    0\n",
              "23     26   64497.500000           2  ...       1     0                    0\n",
              "24     28   54863.500000           1  ...       1     0                    0\n",
              "25     29   67991.411348           2  ...      10     0                    1\n",
              "26     30   84335.167273           3  ...       3     0                    1\n",
              "\n",
              "[27 rows x 9 columns]"
            ]
          },
          "metadata": {},
          "execution_count": 8
        }
      ]
    },
    {
      "cell_type": "code",
      "metadata": {
        "colab": {
          "base_uri": "https://localhost:8080/",
          "height": 497
        },
        "id": "ZIqy63NH5rg9",
        "outputId": "87174fea-27f2-4a92-e940-0ee2babab36a"
      },
      "source": [
        "_, ax = plt.subplots(ncols=2, nrows=2, figsize=(12, 8))\n",
        "sns.barplot(x=lev_win_data['level'], y=lev_win_data['VICTORY'], ax=ax[0,0])\n",
        "sns.barplot(x=lev_win_data['level'], y=lev_win_data['DEFEAT'], ax=ax[0, 1])\n",
        "sns.barplot(x=lev_win_data['level'], y=lev_win_data['mean_time'], ax=ax[1, 0])\n",
        "sns.barplot(x=lev_win_data['level'], y=lev_win_data['mean_stars'], ax=ax[1, 1]);"
      ],
      "execution_count": 9,
      "outputs": [
        {
          "output_type": "display_data",
          "data": {
            "image/png": "[encoded data removed]",
            "text/plain": [
              "<Figure size 864x576 with 4 Axes>"
            ]
          },
          "metadata": {
            "needs_background": "light"
          }
        }
      ]
    },
    {
      "cell_type": "code",
      "metadata": {
        "colab": {
          "base_uri": "https://localhost:8080/",
          "height": 801
        },
        "id": "MDvb0ljs-T0I",
        "outputId": "8ef3bdf5-25d6-4baa-b906-6e0d94d16bf9"
      },
      "source": [
        "tot_level_game = lev_win_data[['VICTORY',\t'VICTORY_WITH_BOOSTER', 'DEFEAT', 'NONE', 'DEFEAT_WITH_BOOSTER']].sum(axis=1)\n",
        "_, ax = plt.subplots(nrows=3, figsize=(6, 12))\n",
        "sns.barplot(x=lev_win_data['level'], y=100 * lev_win_data['VICTORY']/tot_level_game, ax=ax[0], label='victory')\n",
        "sns.barplot(x=lev_win_data['level'], y=100 * lev_win_data['VICTORY_WITH_BOOSTER']/tot_level_game, ax=ax[1], label='boost_victory')\n",
        "sns.barplot(x=lev_win_data['level'], y=100 * lev_win_data['DEFEAT']/tot_level_game, ax=ax[2], label='defeat')\n",
        "for i in range(3):\n",
        "    ax[i].legend()\n",
        "plt.suptitle('Доля проиграшей и выиграшей относ. суммарного кол-ва игр на этом уровне');"
      ],
      "execution_count": 16,
      "outputs": [
        {
          "output_type": "display_data",
          "data": {
            "image/png": "[encoded data removed]",
            "text/plain": [
              "<Figure size 432x864 with 3 Axes>"
            ]
          },
          "metadata": {
            "needs_background": "light"
          }
        }
      ]
    },
    {
      "cell_type": "code",
      "metadata": {
        "colab": {
          "base_uri": "https://localhost:8080/"
        },
        "id": "bLGKKjsyGBX5",
        "outputId": "836051ce-6746-48bd-9df4-f85b44d17ecc"
      },
      "source": [
        "# проверить выигрывают/уходят ли люди после проиграша уровней 13, 29\n",
        "for id in level_data[(level_data['level']==29) & (level_data['win']=='DEFEAT')]['id'].values:\n",
        "    print(level_data[level_data['id']==id][['level', 'win']])"
      ],
      "execution_count": 11,
      "outputs": [
        {
          "output_type": "stream",
          "name": "stdout",
          "text": [
            "    level                   win\n",
            "31      1               VICTORY\n",
            "32      6               VICTORY\n",
            "33      7               VICTORY\n",
            "34      8               VICTORY\n",
            "35     11               VICTORY\n",
            "36     12               VICTORY\n",
            "37     13  VICTORY_WITH_BOOSTER\n",
            "38     14               VICTORY\n",
            "39     15               VICTORY\n",
            "40     16               VICTORY\n",
            "41     29                DEFEAT\n",
            "42     30               VICTORY\n",
            "      level      win\n",
            "1341      1  VICTORY\n",
            "1342      6  VICTORY\n",
            "1343      7  VICTORY\n",
            "1344      8  VICTORY\n",
            "1345     11  VICTORY\n",
            "1346     12  VICTORY\n",
            "1347     13   DEFEAT\n",
            "1348     14  VICTORY\n",
            "1349     15  VICTORY\n",
            "1350     16  VICTORY\n",
            "1351     17  VICTORY\n",
            "1352     29   DEFEAT\n",
            "1353     30  VICTORY\n",
            "      level      win\n",
            "4453      1  VICTORY\n",
            "4454      6  VICTORY\n",
            "4455      7  VICTORY\n",
            "4456      8  VICTORY\n",
            "4457     11  VICTORY\n",
            "4458     12  VICTORY\n",
            "4459     13   DEFEAT\n",
            "4460     14  VICTORY\n",
            "4461     15  VICTORY\n",
            "4462     16  VICTORY\n",
            "4463     17  VICTORY\n",
            "4464     18  VICTORY\n",
            "4465     29   DEFEAT\n",
            "4466     30  VICTORY\n",
            "      level      win\n",
            "6448      1  VICTORY\n",
            "6449      6  VICTORY\n",
            "6450      7  VICTORY\n",
            "6451      8  VICTORY\n",
            "6452     11  VICTORY\n",
            "6453     12  VICTORY\n",
            "6454     13   DEFEAT\n",
            "6455     14  VICTORY\n",
            "6456     15  VICTORY\n",
            "6457     16  VICTORY\n",
            "6458     29   DEFEAT\n",
            "6459     30  VICTORY\n",
            "      level                   win\n",
            "6690      1               VICTORY\n",
            "6691      6               VICTORY\n",
            "6692      7               VICTORY\n",
            "6693      8               VICTORY\n",
            "6694     11               VICTORY\n",
            "6695     12  VICTORY_WITH_BOOSTER\n",
            "6696     13               VICTORY\n",
            "6697     14               VICTORY\n",
            "6698     29                DEFEAT\n",
            "6699     30               VICTORY\n",
            "       level      win\n",
            "10228      1  VICTORY\n",
            "10229      6  VICTORY\n",
            "10230      7  VICTORY\n",
            "10231      8  VICTORY\n",
            "10232     11  VICTORY\n",
            "10233     12  VICTORY\n",
            "10234     13   DEFEAT\n",
            "10235     14  VICTORY\n",
            "10236     15  VICTORY\n",
            "10237     16  VICTORY\n",
            "10238     17  VICTORY\n",
            "10239     29   DEFEAT\n",
            "10240     30  VICTORY\n",
            "       level      win\n",
            "10609      1  VICTORY\n",
            "10610      6  VICTORY\n",
            "10611      7  VICTORY\n",
            "10612      8  VICTORY\n",
            "10613     11  VICTORY\n",
            "10614     12  VICTORY\n",
            "10615     13   DEFEAT\n",
            "10616     14  VICTORY\n",
            "10617     15  VICTORY\n",
            "10618     16  VICTORY\n",
            "10619     29   DEFEAT\n",
            "10620     30  VICTORY\n",
            "       level                   win\n",
            "10760      1               VICTORY\n",
            "10761      6               VICTORY\n",
            "10762      7               VICTORY\n",
            "10763      8               VICTORY\n",
            "10764     11               VICTORY\n",
            "10765     12               VICTORY\n",
            "10766     13  VICTORY_WITH_BOOSTER\n",
            "10767     14               VICTORY\n",
            "10768     15               VICTORY\n",
            "10769     16               VICTORY\n",
            "10770     17               VICTORY\n",
            "10771     29                DEFEAT\n",
            "10772     30               VICTORY\n",
            "       level                   win\n",
            "11789      1               VICTORY\n",
            "11790      6               VICTORY\n",
            "11791      7               VICTORY\n",
            "11792      8               VICTORY\n",
            "11793     11               VICTORY\n",
            "11794     12               VICTORY\n",
            "11795     13  VICTORY_WITH_BOOSTER\n",
            "11796     14               VICTORY\n",
            "11797     15               VICTORY\n",
            "11798     29                DEFEAT\n",
            "11799     30               VICTORY\n",
            "       level                   win\n",
            "11836      1               VICTORY\n",
            "11837      6               VICTORY\n",
            "11838      7               VICTORY\n",
            "11839      8  VICTORY_WITH_BOOSTER\n",
            "11840     11               VICTORY\n",
            "11841     12               VICTORY\n",
            "11842     13               VICTORY\n",
            "11843     29                DEFEAT\n",
            "11844     30               VICTORY\n"
          ]
        }
      ]
    },
    {
      "cell_type": "markdown",
      "metadata": {
        "id": "-yKvEX7xIqB5"
      },
      "source": [
        "Да, люди выигрывают после проиграшей в 13 и 19 уровне, т.е. эти уровни не отбивают у пользователей желание играть, а скорее просто в них чаще допускают ошибки."
      ]
    },
    {
      "cell_type": "code",
      "metadata": {
        "colab": {
          "base_uri": "https://localhost:8080/",
          "height": 272
        },
        "id": "9PkeyZ2DQzvH",
        "outputId": "6f5c1762-6af7-4042-8f9a-4c3574a54d06"
      },
      "source": [
        "# посмотрим сколько уровней прошли те польователи, которые ушли при обучении:\n",
        "# заводим польный df со всеми уровнями, которые прошел пользователь\n",
        "level_data_gone = {'id':[], 'stars':[], 'level':[], 'cardsOnField':[], 'cardsOnHands':[], 'time':[], 'win':[]}\n",
        "\n",
        "# id тех, кто ушел\n",
        "test_df = pd.merge(dfs['learning'], dfs['gladeComplete'], on='user_id', how='outer')\n",
        "cur_df = pd.isna(test_df).any(1)\n",
        "nan_idx = cur_df[cur_df == True].index\n",
        "\n",
        "for id, user_data in df[df['event_name']=='levelEnd'].groupby(by='user_id'):\n",
        "    if id in test_df.iloc[nan_idx]['user_id'].values:\n",
        "        user_data = user_data.sort_values(by='client_time')\n",
        "        data = user_data['event_data'].reset_index(drop=True).apply(lambda x: json.loads(x))\n",
        "        for i in data:\n",
        "            try:\n",
        "                level = i['levelLoop']\n",
        "            except:\n",
        "                continue\n",
        "            level_data_gone['id'] += [id]\n",
        "            level_data_gone['level'] += [level]\n",
        "            level_data_gone['time'] += [i['time']]\n",
        "            level_data_gone['stars'] += [i['stars']]\n",
        "            level_data_gone['win'] += [i['win']]\n",
        "            level_data_gone['cardsOnField'] += [i['cardsOnField']]\n",
        "            level_data_gone['cardsOnHands'] += [i['cardsOnHands']]\n",
        "\n",
        "level_data_gone = pd.DataFrame(level_data_gone)\n",
        "level_data_gone_small = {'id':[], 'level':[], 'mean_time':[], 'mean_stars':[], 'mean_cardsOnHands':[],\n",
        "                         'VICTORY':[], 'VICTORY_WITH_BOOSTER':[], 'DEFEAT':[], \n",
        "                         'NONE':[], 'DEFEAT_WITH_BOOSTER':[]}\n",
        "for id, data in level_data_gone.groupby(by='id'):\n",
        "    \n",
        "    level_data_gone_small['id'] += [id]\n",
        "    level_data_gone_small['level'] += [data['level'].values]\n",
        "    level_data_gone_small['mean_time'] += [data['time'].mean()]\n",
        "    level_data_gone_small['mean_stars'] += [round(data['stars'].mean())]\n",
        "    level_data_gone_small['mean_cardsOnHands'] += [round(data['cardsOnHands'].mean())]\n",
        "\n",
        "    data = data['win'].value_counts()\n",
        "    for k in ['VICTORY', 'VICTORY_WITH_BOOSTER', 'DEFEAT', 'NONE',\n",
        "              'DEFEAT_WITH_BOOSTER']:\n",
        "        try:\n",
        "            level_data_gone_small[k] += [data.loc[k]]\n",
        "        except:\n",
        "            level_data_gone_small[k] += [0]\n",
        "\n",
        "level_data_gone_small = pd.DataFrame(level_data_gone_small)\n",
        "level_data_gone_small.head()"
      ],
      "execution_count": 47,
      "outputs": [
        {
          "output_type": "execute_result",
          "data": {
            "text/html": [
              "<div>\n",
              "<style scoped>\n",
              "    .dataframe tbody tr th:only-of-type {\n",
              "        vertical-align: middle;\n",
              "    }\n",
              "\n",
              "    .dataframe tbody tr th {\n",
              "        vertical-align: top;\n",
              "    }\n",
              "\n",
              "    .dataframe thead th {\n",
              "        text-align: right;\n",
              "    }\n",
              "</style>\n",
              "<table border=\"1\" class=\"dataframe\">\n",
              "  <thead>\n",
              "    <tr style=\"text-align: right;\">\n",
              "      <th></th>\n",
              "      <th>id</th>\n",
              "      <th>level</th>\n",
              "      <th>mean_time</th>\n",
              "      <th>mean_stars</th>\n",
              "      <th>mean_cardsOnHands</th>\n",
              "      <th>VICTORY</th>\n",
              "      <th>VICTORY_WITH_BOOSTER</th>\n",
              "      <th>DEFEAT</th>\n",
              "      <th>NONE</th>\n",
              "      <th>DEFEAT_WITH_BOOSTER</th>\n",
              "    </tr>\n",
              "  </thead>\n",
              "  <tbody>\n",
              "    <tr>\n",
              "      <th>0</th>\n",
              "      <td>60ba999a73c31e6a292b7a2b</td>\n",
              "      <td>[0, 0, 0, 0, 0, 0, 0, 0, 0, 0, 0, 0, 0, 0]</td>\n",
              "      <td>45342.214286</td>\n",
              "      <td>2</td>\n",
              "      <td>1</td>\n",
              "      <td>6</td>\n",
              "      <td>6</td>\n",
              "      <td>2</td>\n",
              "      <td>0</td>\n",
              "      <td>0</td>\n",
              "    </tr>\n",
              "    <tr>\n",
              "      <th>1</th>\n",
              "      <td>60babef87c80da6a9442cb86</td>\n",
              "      <td>[1, 6, 7, 13]</td>\n",
              "      <td>44308.250000</td>\n",
              "      <td>3</td>\n",
              "      <td>8</td>\n",
              "      <td>2</td>\n",
              "      <td>2</td>\n",
              "      <td>0</td>\n",
              "      <td>0</td>\n",
              "      <td>0</td>\n",
              "    </tr>\n",
              "    <tr>\n",
              "      <th>2</th>\n",
              "      <td>60babfb17c80da6a9442cb87</td>\n",
              "      <td>[1]</td>\n",
              "      <td>31960.000000</td>\n",
              "      <td>5</td>\n",
              "      <td>17</td>\n",
              "      <td>1</td>\n",
              "      <td>0</td>\n",
              "      <td>0</td>\n",
              "      <td>0</td>\n",
              "      <td>0</td>\n",
              "    </tr>\n",
              "    <tr>\n",
              "      <th>3</th>\n",
              "      <td>60bac42973c31e6a292b7a3a</td>\n",
              "      <td>[0, 0, 0, 0, 0, 0, 0, 0, 0, 0, 0, 0, 0, 0, 0, ...</td>\n",
              "      <td>123425.211111</td>\n",
              "      <td>2</td>\n",
              "      <td>2</td>\n",
              "      <td>11</td>\n",
              "      <td>77</td>\n",
              "      <td>1</td>\n",
              "      <td>0</td>\n",
              "      <td>1</td>\n",
              "    </tr>\n",
              "    <tr>\n",
              "      <th>4</th>\n",
              "      <td>60bace5c7c80da6a9442cb8c</td>\n",
              "      <td>[0, 0, 0, 0]</td>\n",
              "      <td>19561.750000</td>\n",
              "      <td>3</td>\n",
              "      <td>1</td>\n",
              "      <td>3</td>\n",
              "      <td>1</td>\n",
              "      <td>0</td>\n",
              "      <td>0</td>\n",
              "      <td>0</td>\n",
              "    </tr>\n",
              "  </tbody>\n",
              "</table>\n",
              "</div>"
            ],
            "text/plain": [
              "                         id  ... DEFEAT_WITH_BOOSTER\n",
              "0  60ba999a73c31e6a292b7a2b  ...                   0\n",
              "1  60babef87c80da6a9442cb86  ...                   0\n",
              "2  60babfb17c80da6a9442cb87  ...                   0\n",
              "3  60bac42973c31e6a292b7a3a  ...                   1\n",
              "4  60bace5c7c80da6a9442cb8c  ...                   0\n",
              "\n",
              "[5 rows x 10 columns]"
            ]
          },
          "metadata": {},
          "execution_count": 47
        }
      ]
    },
    {
      "cell_type": "code",
      "metadata": {
        "colab": {
          "base_uri": "https://localhost:8080/"
        },
        "id": "2Xl6AO5xX7s5",
        "outputId": "64d61e89-bc01-4a5c-8322-071887807ffd"
      },
      "source": [
        "level_data_gone_small['level'].apply(lambda x: all(x==0)).sum() / level_data_gone_small.shape[0] * 100"
      ],
      "execution_count": 50,
      "outputs": [
        {
          "output_type": "execute_result",
          "data": {
            "text/plain": [
              "60.30534351145038"
            ]
          },
          "metadata": {},
          "execution_count": 50
        }
      ]
    },
    {
      "cell_type": "code",
      "metadata": {
        "colab": {
          "base_uri": "https://localhost:8080/",
          "height": 295
        },
        "id": "SBTwFJ2wUZJ3",
        "outputId": "0d691d3f-f365-470f-d3d2-15cb9c02cf0d"
      },
      "source": [
        "_, ax = plt.subplots()\n",
        "level_data_gone_small['DEFEAT'].hist(ax=ax, ec='k')\n",
        "ax.set_xlabel('кол-во проиграшей')\n",
        "ax.set_ylabel('count')\n",
        "ax.set_title('Распределение проиграшей тех пользователей, которые ушли');"
      ],
      "execution_count": 46,
      "outputs": [
        {
          "output_type": "display_data",
          "data": {
            "image/png": "[encoded data removed]",
            "text/plain": [
              "<Figure size 432x288 with 1 Axes>"
            ]
          },
          "metadata": {
            "needs_background": "light"
          }
        }
      ]
    },
    {
      "cell_type": "code",
      "metadata": {
        "colab": {
          "base_uri": "https://localhost:8080/",
          "height": 284
        },
        "id": "ZYYQkSISWfgC",
        "outputId": "3174918e-f396-4bb4-9808-e69c93e1f389"
      },
      "source": [
        "# проверим не перустанавливали пользователи приложение\n",
        "num_install = {'id':[], 'num':[]}\n",
        "for id, user_data in df[df['event_name']=='appInstall'].groupby(by='user_id'):\n",
        "    if id in test_df.iloc[nan_idx]['user_id'].values:\n",
        "      num_install['id'] += [id]\n",
        "      num_install['num'] += [user_data.shape[0]]\n",
        "num_install = pd.DataFrame(num_install)\n",
        "num_install['num'].hist()"
      ],
      "execution_count": 48,
      "outputs": [
        {
          "output_type": "execute_result",
          "data": {
            "text/plain": [
              "<matplotlib.axes._subplots.AxesSubplot at 0x7f65fc762dd0>"
            ]
          },
          "metadata": {},
          "execution_count": 48
        },
        {
          "output_type": "display_data",
          "data": {
            "image/png": "[encoded data removed]",
            "text/plain": [
              "<Figure size 432x288 with 1 Axes>"
            ]
          },
          "metadata": {
            "needs_background": "light"
          }
        }
      ]
    },
    {
      "cell_type": "code",
      "metadata": {
        "id": "iVPIizZYwFUX"
      },
      "source": [
        "# todo: Сколько проиграшей сделает пользователь перед тем, как уйдет? \n",
        "# (Нужно смотреть дальше, чем 30 уровней и обсудить с командой, что есть уход)"
      ],
      "execution_count": null,
      "outputs": []
    },
    {
      "cell_type": "markdown",
      "metadata": {
        "id": "HLRO_JMWwF79"
      },
      "source": [
        "# Test 1.3 Оценка трафика (1 час)\n",
        "(* Это задание опциональное, его выполнение поможет нам лучше понять ваше\n",
        "погружение в предметную область и скилы в работе с данными). Часть пользователей в датасете пришли по одной рекламной кампании (media_source\n",
        "= ad-traffic). Для нее мы знаем CPI:\n",
        "* CPI = 1,8 USD\n",
        "\n",
        "Оцените эффективность этой рекламной кампании"
      ]
    },
    {
      "cell_type": "markdown",
      "metadata": {
        "id": "3jeVXsYbG9_H"
      },
      "source": [
        "$$CPI = \\frac{\\text{Рекламные расходы}}{\\text{количество установок}}$$"
      ]
    },
    {
      "cell_type": "code",
      "metadata": {
        "id": "jF2IcR_YwLBD"
      },
      "source": [
        "tot_num_ad_traffic_users = df[df['media_source']=='ad-traffic']['user_id'].unique().shape[0]\n",
        "\n",
        "def get_usd(x):\n",
        "    try :\n",
        "      y = json.loads(x)['usdProceed']\n",
        "    except:\n",
        "      y = json.loads(x)['usdPrice']\n",
        "    return y\n",
        "\n",
        "pay_data = {'id':[], 'pay':[]}\n",
        "for id, user_data in df[(df['event_name']=='transactionComplete') & \n",
        "                        (df['media_source']=='ad-traffic')].groupby(by='user_id'):\n",
        "    pay_data['id'] += [id]\n",
        "    pay_data['pay'] += [sum(user_data['event_data'].apply(get_usd))]\n",
        "\n",
        "pay_data = pd.DataFrame(pay_data)\n",
        "\n",
        "pay_data_organic = {'id':[], 'pay':[]}\n",
        "for id, user_data in df[(df['event_name']=='transactionComplete') & \n",
        "                        (df['media_source']=='organic')].groupby(by='user_id'):\n",
        "    pay_data_organic['id'] += [id]\n",
        "    pay_data_organic['pay'] += [sum(user_data['event_data'].apply(get_usd))]\n",
        "\n",
        "pay_data_organic = pd.DataFrame(pay_data_organic)"
      ],
      "execution_count": 18,
      "outputs": []
    },
    {
      "cell_type": "code",
      "metadata": {
        "colab": {
          "base_uri": "https://localhost:8080/"
        },
        "id": "VsgsW6Mm8fXq",
        "outputId": "c77df3e3-915a-4643-d8c7-93cafb054f6c"
      },
      "source": [
        "# Оценим коэффициент возврата маркетинговых инвестиций\n",
        "cpi = 1.8\n",
        "adv_cost = cpi * tot_num_ad_traffic_users\n",
        "romi = (pay_data['pay'].sum() - adv_cost) / adv_cost * 100\n",
        "print('total plofit by ad-traffic = %.2f\\\n",
        "      \\ntotal plofit by organic = %.2f' % (pay_data['pay'].sum(), pay_data_organic['pay'].sum()))\n",
        "print('ROMI = %.2f' % romi)"
      ],
      "execution_count": 19,
      "outputs": [
        {
          "output_type": "stream",
          "name": "stdout",
          "text": [
            "total plofit by ad-traffic = 56.58      \n",
            "total plofit by organic = 421.92\n",
            "ROMI = -80.23\n"
          ]
        }
      ]
    },
    {
      "cell_type": "code",
      "metadata": {
        "colab": {
          "base_uri": "https://localhost:8080/"
        },
        "id": "29RSFP9vAE_t",
        "outputId": "1ac17cee-9855-43f3-f72b-e4cf59a26e94"
      },
      "source": [
        "adv_cost"
      ],
      "execution_count": 20,
      "outputs": [
        {
          "output_type": "execute_result",
          "data": {
            "text/plain": [
              "286.2"
            ]
          },
          "metadata": {},
          "execution_count": 20
        }
      ]
    },
    {
      "cell_type": "code",
      "metadata": {
        "colab": {
          "base_uri": "https://localhost:8080/"
        },
        "id": "bU0pGdgtYRyj",
        "outputId": "df9e5208-74ce-446c-eda8-2011c54b1c2d"
      },
      "source": [
        "# оценим конверсию в покупку по рекламному каналу\n",
        "cr = pay_data.shape[0] / tot_num_ad_traffic_users * 100\n",
        "print('CR = %.2f' % cr)"
      ],
      "execution_count": 329,
      "outputs": [
        {
          "output_type": "stream",
          "name": "stdout",
          "text": [
            "CR = 4.40\n"
          ]
        }
      ]
    }
  ]
}